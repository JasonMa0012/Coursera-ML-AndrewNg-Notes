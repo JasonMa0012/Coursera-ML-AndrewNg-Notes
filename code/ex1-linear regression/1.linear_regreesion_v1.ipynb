{
 "cells": [
  {
   "cell_type": "markdown",
   "metadata": {},
   "source": [
    "# linear regreesion（线性回归）\n",
    "注意：python版本为3.6，\n",
    "安装TensorFlow的方法：pip install tensorflow"
   ]
  },
  {
   "cell_type": "code",
   "execution_count": 1,
   "metadata": {
    "collapsed": true
   },
   "outputs": [],
   "source": [
    "import pandas as pd\n",
    "import seaborn as sns\n",
    "sns.set(context=\"notebook\", style=\"whitegrid\", palette=\"dark\")\n",
    "import matplotlib.pyplot as plt\n",
    "import tensorflow as tf\n",
    "import numpy as np"
   ]
  },
  {
   "cell_type": "code",
   "execution_count": 2,
   "metadata": {
    "collapsed": true
   },
   "outputs": [],
   "source": [
    "df = pd.read_csv('ex1data1.txt', names=['population', 'profit'])#读取数据并赋予列名"
   ]
  },
  {
   "cell_type": "code",
   "execution_count": 3,
   "metadata": {},
   "outputs": [
    {
     "data": {
      "text/html": [
       "<div>\n",
       "<style scoped>\n",
       "    .dataframe tbody tr th:only-of-type {\n",
       "        vertical-align: middle;\n",
       "    }\n",
       "\n",
       "    .dataframe tbody tr th {\n",
       "        vertical-align: top;\n",
       "    }\n",
       "\n",
       "    .dataframe thead th {\n",
       "        text-align: right;\n",
       "    }\n",
       "</style>\n",
       "<table border=\"1\" class=\"dataframe\">\n",
       "  <thead>\n",
       "    <tr style=\"text-align: right;\">\n",
       "      <th></th>\n",
       "      <th>population</th>\n",
       "      <th>profit</th>\n",
       "    </tr>\n",
       "  </thead>\n",
       "  <tbody>\n",
       "    <tr>\n",
       "      <th>0</th>\n",
       "      <td>6.1101</td>\n",
       "      <td>17.5920</td>\n",
       "    </tr>\n",
       "    <tr>\n",
       "      <th>1</th>\n",
       "      <td>5.5277</td>\n",
       "      <td>9.1302</td>\n",
       "    </tr>\n",
       "    <tr>\n",
       "      <th>2</th>\n",
       "      <td>8.5186</td>\n",
       "      <td>13.6620</td>\n",
       "    </tr>\n",
       "    <tr>\n",
       "      <th>3</th>\n",
       "      <td>7.0032</td>\n",
       "      <td>11.8540</td>\n",
       "    </tr>\n",
       "    <tr>\n",
       "      <th>4</th>\n",
       "      <td>5.8598</td>\n",
       "      <td>6.8233</td>\n",
       "    </tr>\n",
       "  </tbody>\n",
       "</table>\n",
       "</div>"
      ],
      "text/plain": [
       "   population   profit\n",
       "0      6.1101  17.5920\n",
       "1      5.5277   9.1302\n",
       "2      8.5186  13.6620\n",
       "3      7.0032  11.8540\n",
       "4      5.8598   6.8233"
      ]
     },
     "execution_count": 3,
     "metadata": {},
     "output_type": "execute_result"
    }
   ],
   "source": [
    "df.head()#看前五行"
   ]
  },
  {
   "cell_type": "code",
   "execution_count": 4,
   "metadata": {},
   "outputs": [
    {
     "name": "stdout",
     "output_type": "stream",
     "text": [
      "<class 'pandas.core.frame.DataFrame'>\n",
      "RangeIndex: 97 entries, 0 to 96\n",
      "Data columns (total 2 columns):\n",
      " #   Column      Non-Null Count  Dtype  \n",
      "---  ------      --------------  -----  \n",
      " 0   population  97 non-null     float64\n",
      " 1   profit      97 non-null     float64\n",
      "dtypes: float64(2)\n",
      "memory usage: 1.6 KB\n"
     ]
    }
   ],
   "source": [
    "df.info()"
   ]
  },
  {
   "cell_type": "markdown",
   "metadata": {},
   "source": [
    "***\n",
    "# 看下原始数据"
   ]
  },
  {
   "cell_type": "code",
   "execution_count": 6,
   "metadata": {},
   "outputs": [
    {
     "name": "stderr",
     "output_type": "stream",
     "text": [
      "C:\\Users\\wenrui.ma\\.pyenv\\pyenv-win\\versions\\3.8.10\\lib\\site-packages\\seaborn\\_decorators.py:36: FutureWarning: Pass the following variables as keyword args: x, y, data. From version 0.12, the only valid positional argument will be `data`, and passing other arguments without an explicit keyword will result in an error or misinterpretation.\n",
      "  warnings.warn(\n",
      "C:\\Users\\wenrui.ma\\.pyenv\\pyenv-win\\versions\\3.8.10\\lib\\site-packages\\seaborn\\regression.py:581: UserWarning: The `size` parameter has been renamed to `height`; please update your code.\n",
      "  warnings.warn(msg, UserWarning)\n"
     ]
    },
    {
     "data": {
      "image/png": "[encoded data removed]",
      "text/plain": [
       "<Figure size 432x432 with 1 Axes>"
      ]
     },
     "metadata": {},
     "output_type": "display_data"
    }
   ],
   "source": [
    "sns.lmplot('population', 'profit', df, size=6, fit_reg=False)\n",
    "plt.show()"
   ]
  },
  {
   "cell_type": "code",
   "execution_count": 7,
   "metadata": {
    "collapsed": true
   },
   "outputs": [],
   "source": [
    "def get_X(df : pd.DataFrame):#读取特征\n",
    "#     \"\"\"\n",
    "#     use concat to add intersect feature to avoid side effect\n",
    "#     not efficient for big dataset though\n",
    "#     \"\"\"\n",
    "    ones = pd.DataFrame({'ones': np.ones(len(df))})#ones是m行1列的dataframe\n",
    "    data = pd.concat([ones, df], axis=1)  # 合并数据，根据列合并\n",
    "    return data.iloc[:, :-1].as_matrix()  # 这个操作返回 ndarray,不是矩阵\n",
    "\n",
    "\n",
    "def get_y(df : pd.DataFrame):#读取标签\n",
    "#     '''assume the last column is the target'''\n",
    "    return np.array(df.iloc[:, -1])#df.iloc[:, -1]是指df的最后一列\n",
    "\n",
    "\n",
    "def normalize_feature(df : pd.DataFrame):\n",
    "#     \"\"\"Applies function along input axis(default 0) of DataFrame.\"\"\"\n",
    "    return df.apply(lambda column: (column - column.mean()) / column.std())#特征缩放"
   ]
  },
  {
   "cell_type": "markdown",
   "metadata": {},
   "source": [
    "多变量的假设 h 表示为：$${{h}_{\\theta }}\\left( x \\right)={{\\theta }_{0}}+{{\\theta }_{1}}{{x}_{1}}+{{\\theta }_{2}}{{x}_{2}}+...+{{\\theta }_{n}}{{x}_{n}}$$\n",
    "这个公式中有n+1个参数和n个变量，为了使得公式能够简化一些，引入${{x}_{0}}=1$，则公式转化为：  \n",
    "此时模型中的参数是一个n+1维的向量，任何一个训练实例也都是n+1维的向量，特征矩阵X的维度是 m*(n+1)。 因此公式可以简化为：${{h}_{\\theta }}\\left( x \\right)={{\\theta }^{T}}X$，其中上标T代表矩阵转置。\n"
   ]
  },
  {
   "cell_type": "code",
   "execution_count": 7,
   "metadata": {
    "collapsed": true
   },
   "outputs": [
    {
     "ename": "AttributeError",
     "evalue": "module 'tensorflow._api.v2.train' has no attribute 'GradientDescentOptimizer'",
     "output_type": "error",
     "traceback": [
      "\u001b[1;31m---------------------------------------------------------------------------\u001b[0m",
      "\u001b[1;31mAttributeError\u001b[0m                            Traceback (most recent call last)",
      "\u001b[1;32md:\\WorkSpace\\Coursera-ML-AndrewNg-Notes\\code\\ex1-linear regression\\1.linear_regreesion_v1.ipynb Cell 10'\u001b[0m in \u001b[0;36m<cell line: 1>\u001b[1;34m()\u001b[0m\n\u001b[1;32m----> <a href='vscode-notebook-cell:/d%3A/WorkSpace/Coursera-ML-AndrewNg-Notes/code/ex1-linear%20regression/1.linear_regreesion_v1.ipynb#ch0000009?line=0'>1</a>\u001b[0m \u001b[39mdef\u001b[39;00m \u001b[39mlinear_regression\u001b[39m(X_data, y_data, alpha, epoch, optimizer\u001b[39m=\u001b[39mtf\u001b[39m.\u001b[39;49mtrain\u001b[39m.\u001b[39;49mGradientDescentOptimizer):\u001b[39m# 这个函数是旧金山的一个大神Lucas Shen写的\u001b[39;00m\n\u001b[0;32m      <a href='vscode-notebook-cell:/d%3A/WorkSpace/Coursera-ML-AndrewNg-Notes/code/ex1-linear%20regression/1.linear_regreesion_v1.ipynb#ch0000009?line=1'>2</a>\u001b[0m       \u001b[39m# placeholder for graph input\u001b[39;00m\n\u001b[0;32m      <a href='vscode-notebook-cell:/d%3A/WorkSpace/Coursera-ML-AndrewNg-Notes/code/ex1-linear%20regression/1.linear_regreesion_v1.ipynb#ch0000009?line=2'>3</a>\u001b[0m     X \u001b[39m=\u001b[39m tf\u001b[39m.\u001b[39mplaceholder(tf\u001b[39m.\u001b[39mfloat32, shape\u001b[39m=\u001b[39mX_data\u001b[39m.\u001b[39mshape)\n\u001b[0;32m      <a href='vscode-notebook-cell:/d%3A/WorkSpace/Coursera-ML-AndrewNg-Notes/code/ex1-linear%20regression/1.linear_regreesion_v1.ipynb#ch0000009?line=3'>4</a>\u001b[0m     y \u001b[39m=\u001b[39m tf\u001b[39m.\u001b[39mplaceholder(tf\u001b[39m.\u001b[39mfloat32, shape\u001b[39m=\u001b[39my_data\u001b[39m.\u001b[39mshape)\n",
      "\u001b[1;31mAttributeError\u001b[0m: module 'tensorflow._api.v2.train' has no attribute 'GradientDescentOptimizer'"
     ]
    }
   ],
   "source": [
    "def linear_regression(X_data, y_data, alpha, epoch, optimizer=tf.train.GradientDescentOptimizer):# 这个函数是旧金山的一个大神Lucas Shen写的\n",
    "      # placeholder for graph input\n",
    "    X = tf.placeholder(tf.float32, shape=X_data.shape)\n",
    "    y = tf.placeholder(tf.float32, shape=y_data.shape)\n",
    "\n",
    "    # construct the graph\n",
    "    with tf.variable_scope('linear-regression'):\n",
    "        W = tf.get_variable(\"weights\",\n",
    "                            (X_data.shape[1], 1),\n",
    "                            initializer=tf.constant_initializer())  # n*1\n",
    "\n",
    "        y_pred = tf.matmul(X, W)  # m*n @ n*1 -> m*1\n",
    "\n",
    "        loss = 1 / (2 * len(X_data)) * tf.matmul((y_pred - y), (y_pred - y), transpose_a=True)  # (m*1).T @ m*1 = 1*1\n",
    "\n",
    "    opt = optimizer(learning_rate=alpha)\n",
    "    opt_operation = opt.minimize(loss)\n",
    "\n",
    "    # run the session\n",
    "    with tf.Session() as sess:\n",
    "        sess.run(tf.global_variables_initializer())\n",
    "        loss_data = []\n",
    "\n",
    "        for i in range(epoch):\n",
    "            _, loss_val, W_val = sess.run([opt_operation, loss, W], feed_dict={X: X_data, y: y_data})\n",
    "            loss_data.append(loss_val[0, 0])  # because every loss_val is 1*1 ndarray\n",
    "\n",
    "            if len(loss_data) > 1 and np.abs(loss_data[-1] - loss_data[-2]) < 10 ** -9:  # early break when it's converged\n",
    "                # print('Converged at epoch {}'.format(i))\n",
    "                break\n",
    "\n",
    "    # clear the graph\n",
    "    tf.reset_default_graph()\n",
    "    return {'loss': loss_data, 'parameters': W_val}  # just want to return in row vector format"
   ]
  },
  {
   "cell_type": "code",
   "execution_count": 8,
   "metadata": {},
   "outputs": [
    {
     "data": {
      "text/html": [
       "<div>\n",
       "<style>\n",
       "    .dataframe thead tr:only-child th {\n",
       "        text-align: right;\n",
       "    }\n",
       "\n",
       "    .dataframe thead th {\n",
       "        text-align: left;\n",
       "    }\n",
       "\n",
       "    .dataframe tbody tr th {\n",
       "        vertical-align: top;\n",
       "    }\n",
       "</style>\n",
       "<table border=\"1\" class=\"dataframe\">\n",
       "  <thead>\n",
       "    <tr style=\"text-align: right;\">\n",
       "      <th></th>\n",
       "      <th>population</th>\n",
       "      <th>profit</th>\n",
       "    </tr>\n",
       "  </thead>\n",
       "  <tbody>\n",
       "    <tr>\n",
       "      <th>0</th>\n",
       "      <td>6.1101</td>\n",
       "      <td>17.5920</td>\n",
       "    </tr>\n",
       "    <tr>\n",
       "      <th>1</th>\n",
       "      <td>5.5277</td>\n",
       "      <td>9.1302</td>\n",
       "    </tr>\n",
       "    <tr>\n",
       "      <th>2</th>\n",
       "      <td>8.5186</td>\n",
       "      <td>13.6620</td>\n",
       "    </tr>\n",
       "    <tr>\n",
       "      <th>3</th>\n",
       "      <td>7.0032</td>\n",
       "      <td>11.8540</td>\n",
       "    </tr>\n",
       "    <tr>\n",
       "      <th>4</th>\n",
       "      <td>5.8598</td>\n",
       "      <td>6.8233</td>\n",
       "    </tr>\n",
       "  </tbody>\n",
       "</table>\n",
       "</div>"
      ],
      "text/plain": [
       "   population   profit\n",
       "0      6.1101  17.5920\n",
       "1      5.5277   9.1302\n",
       "2      8.5186  13.6620\n",
       "3      7.0032  11.8540\n",
       "4      5.8598   6.8233"
      ]
     },
     "execution_count": 8,
     "metadata": {},
     "output_type": "execute_result"
    }
   ],
   "source": [
    "data = pd.read_csv('ex1data1.txt', names=['population', 'profit'])#读取数据，并赋予列名\n",
    "\n",
    "data.head()#看下数据前5行"
   ]
  },
  {
   "cell_type": "markdown",
   "metadata": {},
   "source": [
    "# 计算代价函数\n",
    "$$J\\left( \\theta  \\right)=\\frac{1}{2m}\\sum\\limits_{i=1}^{m}{{{\\left( {{h}_{\\theta }}\\left( {{x}^{(i)}} \\right)-{{y}^{(i)}} \\right)}^{2}}}$$\n",
    "其中：$${{h}_{\\theta }}\\left( x \\right)={{\\theta }^{T}}X={{\\theta }_{0}}{{x}_{0}}+{{\\theta }_{1}}{{x}_{1}}+{{\\theta }_{2}}{{x}_{2}}+...+{{\\theta }_{n}}{{x}_{n}}$$"
   ]
  },
  {
   "cell_type": "code",
   "execution_count": 8,
   "metadata": {},
   "outputs": [
    {
     "ename": "NameError",
     "evalue": "name 'data' is not defined",
     "output_type": "error",
     "traceback": [
      "\u001b[1;31m---------------------------------------------------------------------------\u001b[0m",
      "\u001b[1;31mNameError\u001b[0m                                 Traceback (most recent call last)",
      "\u001b[1;32md:\\WorkSpace\\Coursera-ML-AndrewNg-Notes\\code\\ex1-linear regression\\1.linear_regreesion_v1.ipynb Cell 13'\u001b[0m in \u001b[0;36m<cell line: 1>\u001b[1;34m()\u001b[0m\n\u001b[1;32m----> <a href='vscode-notebook-cell:/d%3A/WorkSpace/Coursera-ML-AndrewNg-Notes/code/ex1-linear%20regression/1.linear_regreesion_v1.ipynb#ch0000012?line=0'>1</a>\u001b[0m X \u001b[39m=\u001b[39m get_X(data)\n\u001b[0;32m      <a href='vscode-notebook-cell:/d%3A/WorkSpace/Coursera-ML-AndrewNg-Notes/code/ex1-linear%20regression/1.linear_regreesion_v1.ipynb#ch0000012?line=1'>2</a>\u001b[0m \u001b[39mprint\u001b[39m(X\u001b[39m.\u001b[39mshape, \u001b[39mtype\u001b[39m(X))\n\u001b[0;32m      <a href='vscode-notebook-cell:/d%3A/WorkSpace/Coursera-ML-AndrewNg-Notes/code/ex1-linear%20regression/1.linear_regreesion_v1.ipynb#ch0000012?line=3'>4</a>\u001b[0m y \u001b[39m=\u001b[39m get_y(data)\n",
      "\u001b[1;31mNameError\u001b[0m: name 'data' is not defined"
     ]
    }
   ],
   "source": [
    "X = get_X(data)\n",
    "print(X.shape, type(X))\n",
    "\n",
    "y = get_y(data)\n",
    "print(y.shape, type(y))\n",
    "#看下数据维度"
   ]
  },
  {
   "cell_type": "code",
   "execution_count": 10,
   "metadata": {
    "collapsed": true
   },
   "outputs": [],
   "source": [
    "theta = np.zeros(X.shape[1])#X.shape[1]=2,代表特征数n"
   ]
  },
  {
   "cell_type": "code",
   "execution_count": 11,
   "metadata": {
    "collapsed": true
   },
   "outputs": [],
   "source": [
    "def lr_cost(theta, X, y):\n",
    "#     \"\"\"\n",
    "#     X: R(m*n), m 样本数, n 特征数\n",
    "#     y: R(m)\n",
    "#     theta : R(n), 线性回归的参数\n",
    "#     \"\"\"\n",
    "    m = X.shape[0]#m为样本数\n",
    "\n",
    "    inner = X @ theta - y  # R(m*1)，X @ theta等价于X.dot(theta)\n",
    "\n",
    "    # 1*m @ m*1 = 1*1 in matrix multiplication\n",
    "    # but you know numpy didn't do transpose in 1d array, so here is just a\n",
    "    # vector inner product to itselves\n",
    "    square_sum = inner.T @ inner\n",
    "    cost = square_sum / (2 * m)\n",
    "\n",
    "    return cost"
   ]
  },
  {
   "cell_type": "code",
   "execution_count": 12,
   "metadata": {},
   "outputs": [
    {
     "data": {
      "text/plain": [
       "32.072733877455676"
      ]
     },
     "execution_count": 12,
     "metadata": {},
     "output_type": "execute_result"
    }
   ],
   "source": [
    "lr_cost(theta, X, y)#返回theta的值"
   ]
  },
  {
   "cell_type": "markdown",
   "metadata": {},
   "source": [
    "# batch gradient decent（批量梯度下降）\n",
    "$${{\\theta }_{j}}:={{\\theta }_{j}}-\\alpha \\frac{\\partial }{\\partial {{\\theta }_{j}}}J\\left( \\theta  \\right)$$"
   ]
  },
  {
   "cell_type": "code",
   "execution_count": 13,
   "metadata": {
    "collapsed": true
   },
   "outputs": [],
   "source": [
    "def gradient(theta, X, y):\n",
    "    m = X.shape[0]\n",
    "\n",
    "    inner = X.T @ (X @ theta - y)  # (m,n).T @ (m, 1) -> (n, 1)，X @ theta等价于X.dot(theta)\n",
    "\n",
    "    return inner / m"
   ]
  },
  {
   "cell_type": "code",
   "execution_count": 14,
   "metadata": {
    "collapsed": true
   },
   "outputs": [],
   "source": [
    "def batch_gradient_decent(theta, X, y, epoch, alpha=0.01):\n",
    "#   拟合线性回归，返回参数和代价\n",
    "#     epoch: 批处理的轮数\n",
    "#     \"\"\"\n",
    "    cost_data = [lr_cost(theta, X, y)]\n",
    "    _theta = theta.copy()  # 拷贝一份，不和原来的theta混淆\n",
    "\n",
    "    for _ in range(epoch):\n",
    "        _theta = _theta - alpha * gradient(_theta, X, y)\n",
    "        cost_data.append(lr_cost(_theta, X, y))\n",
    "\n",
    "    return _theta, cost_data\n",
    "#批量梯度下降函数"
   ]
  },
  {
   "cell_type": "code",
   "execution_count": 15,
   "metadata": {
    "collapsed": true
   },
   "outputs": [],
   "source": [
    "epoch = 500\n",
    "final_theta, cost_data = batch_gradient_decent(theta, X, y, epoch)"
   ]
  },
  {
   "cell_type": "code",
   "execution_count": 16,
   "metadata": {},
   "outputs": [
    {
     "data": {
      "text/plain": [
       "array([-2.28286727,  1.03099898])"
      ]
     },
     "execution_count": 16,
     "metadata": {},
     "output_type": "execute_result"
    }
   ],
   "source": [
    "final_theta\n",
    "#最终的theta"
   ]
  },
  {
   "cell_type": "code",
   "execution_count": 19,
   "metadata": {},
   "outputs": [
    {
     "data": {
      "text/plain": [
       "[32.072733877455676,\n",
       " 6.7371904648700109,\n",
       " 5.9315935686049563,\n",
       " 5.9011547070813881,\n",
       " 5.8952285864442207,\n",
       " 5.8900949431173304,\n",
       " 5.8850041584436461,\n",
       " 5.8799324804914175,\n",
       " 5.8748790947625729,\n",
       " 5.8698439118063854,\n",
       " 5.8648268653129305,\n",
       " 5.8598278899321805,\n",
       " 5.8548469205722897,\n",
       " 5.849883892376587,\n",
       " 5.8449387407220339,\n",
       " 5.8400114012183613,\n",
       " 5.8351018097072282,\n",
       " 5.8302099022613882,\n",
       " 5.825335615183862,\n",
       " 5.8204788850070992,\n",
       " 5.8156396484921542,\n",
       " 5.8108178426278689,\n",
       " 5.8060134046300451,\n",
       " 5.8012262719406298,\n",
       " 5.7964563822268991,\n",
       " 5.7917036733806526,\n",
       " 5.7869680835173956,\n",
       " 5.7822495509755392,\n",
       " 5.7775480143155962,\n",
       " 5.7728634123193823,\n",
       " 5.7681956839892123,\n",
       " 5.7635447685471197,\n",
       " 5.7589106054340471,\n",
       " 5.7542931343090782,\n",
       " 5.7496922950486287,\n",
       " 5.7451080277456841,\n",
       " 5.7405402727090138,\n",
       " 5.7359889704623814,\n",
       " 5.7314540617437917,\n",
       " 5.7269354875047016,\n",
       " 5.7224331889092568,\n",
       " 5.7179471073335293,\n",
       " 5.7134771843647494,\n",
       " 5.7090233618005488,\n",
       " 5.7045855816481987,\n",
       " 5.7001637861238557,\n",
       " 5.6957579176518154,\n",
       " 5.6913679188637518,\n",
       " 5.6869937325979798,\n",
       " 5.6826353018987072,\n",
       " 5.6782925700152918,\n",
       " 5.6739654804015052,\n",
       " 5.6696539767147964,\n",
       " 5.6653580028155526,\n",
       " 5.6610775027663793,\n",
       " 5.6568124208313595,\n",
       " 5.6525627014753335,\n",
       " 5.6483282893631808,\n",
       " 5.6441091293590917,\n",
       " 5.6399051665258559,\n",
       " 5.6357163461241351,\n",
       " 5.6315426136117717,\n",
       " 5.6273839146430547,\n",
       " 5.6232401950680257,\n",
       " 5.6191114009317777,\n",
       " 5.6149974784737404,\n",
       " 5.6108983741269842,\n",
       " 5.6068140345175319,\n",
       " 5.602744406463648,\n",
       " 5.5986894369751594,\n",
       " 5.5946490732527598,\n",
       " 5.5906232626873233,\n",
       " 5.5866119528592151,\n",
       " 5.5826150915376234,\n",
       " 5.5786326266798527,\n",
       " 5.5746645064306781,\n",
       " 5.5707106791216434,\n",
       " 5.5667710932704031,\n",
       " 5.5628456975800509,\n",
       " 5.558934440938442,\n",
       " 5.5550372724175441,\n",
       " 5.5511541412727547,\n",
       " 5.5472849969422562,\n",
       " 5.5434297890463515,\n",
       " 5.5395884673868077,\n",
       " 5.5357609819462041,\n",
       " 5.5319472828872751,\n",
       " 5.5281473205522715,\n",
       " 5.5243610454623058,\n",
       " 5.5205884083167129,\n",
       " 5.5168293599924025,\n",
       " 5.5130838515432252,\n",
       " 5.5093518341993333,\n",
       " 5.5056332593665385,\n",
       " 5.5019280786256992,\n",
       " 5.4982362437320651,\n",
       " 5.4945577066146658,\n",
       " 5.490892419375677,\n",
       " 5.4872403342898046,\n",
       " 5.483601403803652,\n",
       " 5.479975580535112,\n",
       " 5.476362817272741,\n",
       " 5.472763066975153,\n",
       " 5.4691762827703982,\n",
       " 5.465602417955358,\n",
       " 5.462041425995138,\n",
       " 5.4584932605224585,\n",
       " 5.4549578753370467,\n",
       " 5.451435224405051,\n",
       " 5.4479252618584244,\n",
       " 5.4444279419943333,\n",
       " 5.4409432192745655,\n",
       " 5.4374710483249329,\n",
       " 5.4340113839346866,\n",
       " 5.4305641810559191,\n",
       " 5.4271293948029848,\n",
       " 5.4237069804519171,\n",
       " 5.4202968934398381,\n",
       " 5.4168990893643816,\n",
       " 5.4135135239831227,\n",
       " 5.4101401532129882,\n",
       " 5.4067789331296936,\n",
       " 5.4034298199671653,\n",
       " 5.4000927701169754,\n",
       " 5.3967677401277676,\n",
       " 5.3934546867046969,\n",
       " 5.3901535667088618,\n",
       " 5.3868643371567471,\n",
       " 5.3835869552196609,\n",
       " 5.3803213782231776,\n",
       " 5.3770675636465821,\n",
       " 5.3738254691223171,\n",
       " 5.37059505243543,\n",
       " 5.3673762715230238,\n",
       " 5.364169084473712,\n",
       " 5.3609734495270676,\n",
       " 5.3577893250730844,\n",
       " 5.3546166696516337,\n",
       " 5.3514554419519165,\n",
       " 5.3483056008119441,\n",
       " 5.345167105217981,\n",
       " 5.3420399143040287,\n",
       " 5.3389239873512837,\n",
       " 5.3358192837876031,\n",
       " 5.3327257631869891,\n",
       " 5.329643385269053,\n",
       " 5.3265721098984988,\n",
       " 5.3235118970845869,\n",
       " 5.3204627069806296,\n",
       " 5.3174244998834608,\n",
       " 5.3143972362329235,\n",
       " 5.3113808766113557,\n",
       " 5.3083753817430726,\n",
       " 5.3053807124938608,\n",
       " 5.3023968298704647,\n",
       " 5.2994236950200815,\n",
       " 5.2964612692298516,\n",
       " 5.2935095139263604,\n",
       " 5.2905683906751291,\n",
       " 5.2876378611801176,\n",
       " 5.2847178872832314,\n",
       " 5.2818084309638111,\n",
       " 5.2789094543381534,\n",
       " 5.2760209196590013,\n",
       " 5.2731427893150702,\n",
       " 5.2702750258305437,\n",
       " 5.267417591864592,\n",
       " 5.2645704502108854,\n",
       " 5.2617335637971108,\n",
       " 5.2589068956844836,\n",
       " 5.2560904090672738,\n",
       " 5.2532840672723218,\n",
       " 5.250487833758565,\n",
       " 5.2477016721165555,\n",
       " 5.2449255460679938,\n",
       " 5.2421594194652528,\n",
       " 5.2394032562909016,\n",
       " 5.2366570206572511,\n",
       " 5.2339206768058695,\n",
       " 5.2311941891071285,\n",
       " 5.2284775220597366,\n",
       " 5.2257706402902713,\n",
       " 5.2230735085527291,\n",
       " 5.2203860917280558,\n",
       " 5.2177083548236967,\n",
       " 5.2150402629731367,\n",
       " 5.2123817814354494,\n",
       " 5.2097328755948435,\n",
       " 5.2070935109602079,\n",
       " 5.2044636531646722,\n",
       " 5.2018432679651498,\n",
       " 5.1992323212418956,\n",
       " 5.1966307789980615,\n",
       " 5.1940386073592597,\n",
       " 5.1914557725731072,\n",
       " 5.1888822410088018,\n",
       " 5.1863179791566756,\n",
       " 5.1837629536277587,\n",
       " 5.1812171311533488,\n",
       " 5.1786804785845755,\n",
       " 5.1761529628919671,\n",
       " 5.1736345511650219,\n",
       " 5.1711252106117822,\n",
       " 5.168624908558404,\n",
       " 5.1661336124487311,\n",
       " 5.1636512898438749,\n",
       " 5.1611779084217888,\n",
       " 5.1587134359768489,\n",
       " 5.1562578404194337,\n",
       " 5.1538110897755045,\n",
       " 5.1513731521861974,\n",
       " 5.1489439959073957,\n",
       " 5.1465235893093233,\n",
       " 5.1441119008761387,\n",
       " 5.1417088992055149,\n",
       " 5.1393145530082336,\n",
       " 5.1369288311077792,\n",
       " 5.1345517024399312,\n",
       " 5.1321831360523653,\n",
       " 5.1298231011042379,\n",
       " 5.1274715668657986,\n",
       " 5.1251285027179803,\n",
       " 5.1227938781520068,\n",
       " 5.1204676627689922,\n",
       " 5.1181498262795433,\n",
       " 5.1158403385033679,\n",
       " 5.1135391693688836,\n",
       " 5.1112462889128247,\n",
       " 5.1089616672798481,\n",
       " 5.1066852747221496,\n",
       " 5.1044170815990766,\n",
       " 5.1021570583767355,\n",
       " 5.0999051756276197,\n",
       " 5.0976614040302106,\n",
       " 5.0954257143686092,\n",
       " 5.0931980775321497,\n",
       " 5.09097846451502,\n",
       " 5.0887668464158873,\n",
       " 5.0865631944375176,\n",
       " 5.0843674798864011,\n",
       " 5.0821796741723864,\n",
       " 5.079999748808298,\n",
       " 5.0778276754095675,\n",
       " 5.0756634256938717,\n",
       " 5.0735069714807555,\n",
       " 5.0713582846912679,\n",
       " 5.0692173373475962,\n",
       " 5.0670841015727053,\n",
       " 5.0649585495899681,\n",
       " 5.0628406537228097,\n",
       " 5.0607303863943418,\n",
       " 5.0586277201270109,\n",
       " 5.0565326275422313,\n",
       " 5.0544450813600363,\n",
       " 5.0523650543987193,\n",
       " 5.0502925195744792,\n",
       " 5.0482274499010735,\n",
       " 5.0461698184894566,\n",
       " 5.0441195985474412,\n",
       " 5.0420767633793417,\n",
       " 5.0400412863856268,\n",
       " 5.038013141062577,\n",
       " 5.0359923010019392,\n",
       " 5.0339787398905793,\n",
       " 5.0319724315101411,\n",
       " 5.0299733497367072,\n",
       " 5.0279814685404549,\n",
       " 5.025996761985323,\n",
       " 5.0240192042286669,\n",
       " 5.0220487695209268,\n",
       " 5.0200854322052928,\n",
       " 5.018129166717368,\n",
       " 5.0161799475848339,\n",
       " 5.0142377494271289,\n",
       " 5.0123025469551052,\n",
       " 5.0103743149707087,\n",
       " 5.0084530283666435,\n",
       " 5.0065386621260481,\n",
       " 5.0046311913221766,\n",
       " 5.00273059111806,\n",
       " 5.0008368367661991,\n",
       " 4.9989499036082261,\n",
       " 4.9970697670745947,\n",
       " 4.9951964026842566,\n",
       " 4.9933297860443435,\n",
       " 4.9914698928498451,\n",
       " 4.9896166988833013,\n",
       " 4.9877701800144782,\n",
       " 4.9859303122000602,\n",
       " 4.9840970714833324,\n",
       " 4.9822704339938717,\n",
       " 4.9804503759472336,\n",
       " 4.978636873644648,\n",
       " 4.9768299034726979,\n",
       " 4.9750294419030316,\n",
       " 4.9732354654920341,\n",
       " 4.9714479508805409,\n",
       " 4.9696668747935222,\n",
       " 4.967892214039785,\n",
       " 4.9661239455116677,\n",
       " 4.9643620461847444,\n",
       " 4.9626064931175193,\n",
       " 4.9608572634511301,\n",
       " 4.9591143344090529,\n",
       " 4.9573776832968033,\n",
       " 4.9556472875016393,\n",
       " 4.9539231244922703,\n",
       " 4.9522051718185605,\n",
       " 4.9504934071112396,\n",
       " 4.9487878080816099,\n",
       " 4.9470883525212574,\n",
       " 4.9453950183017596,\n",
       " 4.9437077833743981,\n",
       " 4.9420266257698762,\n",
       " 4.9403515235980295,\n",
       " 4.9386824550475357,\n",
       " 4.9370193983856412,\n",
       " 4.9353623319578688,\n",
       " 4.9337112341877427,\n",
       " 4.9320660835764993,\n",
       " 4.9304268587028188,\n",
       " 4.9287935382225347,\n",
       " 4.9271661008683632,\n",
       " 4.925544525449622,\n",
       " 4.9239287908519627,\n",
       " 4.9223188760370791,\n",
       " 4.9207147600424523,\n",
       " 4.9191164219810677,\n",
       " 4.9175238410411399,\n",
       " 4.9159369964858524,\n",
       " 4.9143558676530761,\n",
       " 4.9127804339551107,\n",
       " 4.9112106748784097,\n",
       " 4.9096465699833125,\n",
       " 4.9080880989037841,\n",
       " 4.9065352413471484,\n",
       " 4.904987977093815,\n",
       " 4.903446285997032,\n",
       " 4.9019101479826102,\n",
       " 4.9003795430486665,\n",
       " 4.8988544512653656,\n",
       " 4.897334852774657,\n",
       " 4.8958207277900163,\n",
       " 4.894312056596192,\n",
       " 4.8928088195489439,\n",
       " 4.8913109970747897,\n",
       " 4.8898185696707479,\n",
       " 4.8883315179040903,\n",
       " 4.8868498224120795,\n",
       " 4.8853734639017246,\n",
       " 4.8839024231495243,\n",
       " 4.8824366810012201,\n",
       " 4.8809762183715479,\n",
       " 4.8795210162439853,\n",
       " 4.8780710556705085,\n",
       " 4.8766263177713407,\n",
       " 4.8751867837347129,\n",
       " 4.8737524348166099,\n",
       " 4.8723232523405349,\n",
       " 4.8708992176972616,\n",
       " 4.869480312344594,\n",
       " 4.8680665178071223,\n",
       " 4.8666578156759863,\n",
       " 4.8652541876086328,\n",
       " 4.863855615328573,\n",
       " 4.8624620806251588,\n",
       " 4.8610735653533252,\n",
       " 4.8596900514333718,\n",
       " 4.858311520850715,\n",
       " 4.8569379556556642,\n",
       " 4.8555693379631784,\n",
       " 4.8542056499526396,\n",
       " 4.8528468738676169,\n",
       " 4.8514929920156389,\n",
       " 4.8501439867679608,\n",
       " 4.8487998405593355,\n",
       " 4.8474605358877847,\n",
       " 4.8461260553143699,\n",
       " 4.8447963814629684,\n",
       " 4.8434714970200456,\n",
       " 4.8421513847344286,\n",
       " 4.8408360274170814,\n",
       " 4.8395254079408829,\n",
       " 4.8382195092404041,\n",
       " 4.8369183143116823,\n",
       " 4.8356218062120035,\n",
       " 4.8343299680596772,\n",
       " 4.8330427830338261,\n",
       " 4.8317602343741575,\n",
       " 4.8304823053807446,\n",
       " 4.8292089794138171,\n",
       " 4.8279402398935405,\n",
       " 4.8266760702997979,\n",
       " 4.8254164541719788,\n",
       " 4.8241613751087611,\n",
       " 4.8229108167678989,\n",
       " 4.8216647628660114,\n",
       " 4.8204231971783704,\n",
       " 4.819186103538688,\n",
       " 4.8179534658389018,\n",
       " 4.8167252680289776,\n",
       " 4.8155014941166856,\n",
       " 4.8142821281674033,\n",
       " 4.8130671543039014,\n",
       " 4.8118565567061413,\n",
       " 4.8106503196110664,\n",
       " 4.809448427312395,\n",
       " 4.8082508641604242,\n",
       " 4.8070576145618169,\n",
       " 4.8058686629794032,\n",
       " 4.8046839939319756,\n",
       " 4.8035035919940903,\n",
       " 4.8023274417958657,\n",
       " 4.8011555280227798,\n",
       " 4.7999878354154761,\n",
       " 4.7988243487695552,\n",
       " 4.7976650529353906,\n",
       " 4.7965099328179184,\n",
       " 4.795358973376449,\n",
       " 4.7942121596244665,\n",
       " 4.7930694766294364,\n",
       " 4.7919309095126117,\n",
       " 4.790796443448837,\n",
       " 4.7896660636663553,\n",
       " 4.7885397554466147,\n",
       " 4.7874175041240843,\n",
       " 4.7862992950860539,\n",
       " 4.7851851137724477,\n",
       " 4.7840749456756351,\n",
       " 4.7829687763402395,\n",
       " 4.7818665913629541,\n",
       " 4.7807683763923503,\n",
       " 4.7796741171286952,\n",
       " 4.7785837993237585,\n",
       " 4.7774974087806346,\n",
       " 4.7764149313535507,\n",
       " 4.7753363529476918,\n",
       " 4.7742616595190066,\n",
       " 4.773190837074031,\n",
       " 4.7721238716697076,\n",
       " 4.7710607494131958,\n",
       " 4.770001456461701,\n",
       " 4.7689459790222868,\n",
       " 4.7678943033516976,\n",
       " 4.7668464157561825,\n",
       " 4.7658023025913154,\n",
       " 4.7647619502618133,\n",
       " 4.7637253452213626,\n",
       " 4.7626924739724474,\n",
       " 4.7616633230661636,\n",
       " 4.7606378791020525,\n",
       " 4.7596161287279255,\n",
       " 4.7585980586396799,\n",
       " 4.7575836555811408,\n",
       " 4.7565729063438775,\n",
       " 4.755565797767038,\n",
       " 4.7545623167371724,\n",
       " 4.7535624501880669,\n",
       " 4.7525661851005694,\n",
       " 4.7515735085024247,\n",
       " 4.7505844074680983,\n",
       " 4.7495988691186195,\n",
       " 4.7486168806214,\n",
       " 4.7476384291900784,\n",
       " 4.7466635020843446,\n",
       " 4.745692086609786,\n",
       " 4.7447241701177063,\n",
       " 4.7437597400049727,\n",
       " 4.7427987837138508,\n",
       " 4.7418412887318322,\n",
       " 4.7408872425914828,\n",
       " 4.7399366328702737,\n",
       " 4.7389894471904226,\n",
       " 4.7380456732187284,\n",
       " 4.7371052986664157,\n",
       " 4.7361683112889716,\n",
       " 4.7352346988859892,\n",
       " 4.7343044493010051,\n",
       " 4.7333775504213413,\n",
       " 4.7324539901779517,\n",
       " 4.7315337565452618,\n",
       " 4.7306168375410103,\n",
       " 4.7297032212260985,\n",
       " 4.7287928957044265,\n",
       " 4.7278858491227513,\n",
       " 4.7269820696705187,\n",
       " 4.7260815455797172,\n",
       " 4.7251842651247218,\n",
       " 4.7242902166221432,\n",
       " 4.7233993884306775,\n",
       " 4.7225117689509464,\n",
       " 4.7216273466253593,\n",
       " 4.7207461099379495,\n",
       " 4.7198680474142325,\n",
       " 4.7189931476210534,\n",
       " 4.7181213991664395,\n",
       " 4.7172527906994519,\n",
       " 4.7163873109100365,\n",
       " 4.7155249485288744,\n",
       " 4.7146656923272445,\n",
       " 4.7138095311168664]"
      ]
     },
     "execution_count": 19,
     "metadata": {},
     "output_type": "execute_result"
    }
   ],
   "source": [
    "cost_data\n",
    "# 看下代价数据"
   ]
  },
  {
   "cell_type": "code",
   "execution_count": 17,
   "metadata": {},
   "outputs": [
    {
     "data": {
      "text/plain": [
       "4.7138095311168664"
      ]
     },
     "execution_count": 17,
     "metadata": {},
     "output_type": "execute_result"
    }
   ],
   "source": [
    "# 计算最终的代价\n",
    "lr_cost(final_theta, X, y)"
   ]
  },
  {
   "cell_type": "markdown",
   "metadata": {},
   "source": [
    "# visualize cost data（代价数据可视化）"
   ]
  },
  {
   "cell_type": "code",
   "execution_count": 18,
   "metadata": {},
   "outputs": [
    {
     "data": {
      "image/png": "[encoded data removed]",
      "text/plain": [
       "<matplotlib.figure.Figure at 0xcb8a630>"
      ]
     },
     "metadata": {},
     "output_type": "display_data"
    }
   ],
   "source": [
    "ax = sns.tsplot(cost_data, time=np.arange(epoch+1))\n",
    "ax.set_xlabel('epoch')\n",
    "ax.set_ylabel('cost')\n",
    "plt.show()\n",
    "#可以看到从第二轮代价数据变换很大，接下来平稳了"
   ]
  },
  {
   "cell_type": "code",
   "execution_count": 20,
   "metadata": {},
   "outputs": [
    {
     "data": {
      "image/png": "[encoded data removed]",
      "text/plain": [
       "<matplotlib.figure.Figure at 0xce1eef0>"
      ]
     },
     "metadata": {},
     "output_type": "display_data"
    }
   ],
   "source": [
    "b = final_theta[0] # intercept，Y轴上的截距\n",
    "m = final_theta[1] # slope，斜率\n",
    "\n",
    "plt.scatter(data.population, data.profit, label=\"Training data\")\n",
    "plt.plot(data.population, data.population*m + b, label=\"Prediction\")\n",
    "plt.legend(loc=2)\n",
    "plt.show()"
   ]
  },
  {
   "cell_type": "markdown",
   "metadata": {},
   "source": [
    "# 3- 选修章节"
   ]
  },
  {
   "cell_type": "code",
   "execution_count": 22,
   "metadata": {},
   "outputs": [
    {
     "data": {
      "text/html": [
       "<div>\n",
       "<style>\n",
       "    .dataframe thead tr:only-child th {\n",
       "        text-align: right;\n",
       "    }\n",
       "\n",
       "    .dataframe thead th {\n",
       "        text-align: left;\n",
       "    }\n",
       "\n",
       "    .dataframe tbody tr th {\n",
       "        vertical-align: top;\n",
       "    }\n",
       "</style>\n",
       "<table border=\"1\" class=\"dataframe\">\n",
       "  <thead>\n",
       "    <tr style=\"text-align: right;\">\n",
       "      <th></th>\n",
       "      <th>square</th>\n",
       "      <th>bedrooms</th>\n",
       "      <th>price</th>\n",
       "    </tr>\n",
       "  </thead>\n",
       "  <tbody>\n",
       "    <tr>\n",
       "      <th>0</th>\n",
       "      <td>2104</td>\n",
       "      <td>3</td>\n",
       "      <td>399900</td>\n",
       "    </tr>\n",
       "    <tr>\n",
       "      <th>1</th>\n",
       "      <td>1600</td>\n",
       "      <td>3</td>\n",
       "      <td>329900</td>\n",
       "    </tr>\n",
       "    <tr>\n",
       "      <th>2</th>\n",
       "      <td>2400</td>\n",
       "      <td>3</td>\n",
       "      <td>369000</td>\n",
       "    </tr>\n",
       "    <tr>\n",
       "      <th>3</th>\n",
       "      <td>1416</td>\n",
       "      <td>2</td>\n",
       "      <td>232000</td>\n",
       "    </tr>\n",
       "    <tr>\n",
       "      <th>4</th>\n",
       "      <td>3000</td>\n",
       "      <td>4</td>\n",
       "      <td>539900</td>\n",
       "    </tr>\n",
       "  </tbody>\n",
       "</table>\n",
       "</div>"
      ],
      "text/plain": [
       "   square  bedrooms   price\n",
       "0    2104         3  399900\n",
       "1    1600         3  329900\n",
       "2    2400         3  369000\n",
       "3    1416         2  232000\n",
       "4    3000         4  539900"
      ]
     },
     "execution_count": 22,
     "metadata": {},
     "output_type": "execute_result"
    }
   ],
   "source": [
    "raw_data = pd.read_csv('ex1data2.txt', names=['square', 'bedrooms', 'price'])\n",
    "raw_data.head()"
   ]
  },
  {
   "cell_type": "markdown",
   "metadata": {
    "collapsed": true
   },
   "source": [
    "# 标准化数据\n",
    "最简单的方法是令：\n",
    "\n",
    " \n",
    "\n",
    "其中  是平均值，sn 是标准差。\n"
   ]
  },
  {
   "cell_type": "code",
   "execution_count": 23,
   "metadata": {
    "collapsed": true
   },
   "outputs": [],
   "source": [
    "def normalize_feature(df):\n",
    "#     \"\"\"Applies function along input axis(default 0) of DataFrame.\"\"\"\n",
    "    return df.apply(lambda column: (column - column.mean()) / column.std())"
   ]
  },
  {
   "cell_type": "code",
   "execution_count": 24,
   "metadata": {},
   "outputs": [
    {
     "data": {
      "text/html": [
       "<div>\n",
       "<style>\n",
       "    .dataframe thead tr:only-child th {\n",
       "        text-align: right;\n",
       "    }\n",
       "\n",
       "    .dataframe thead th {\n",
       "        text-align: left;\n",
       "    }\n",
       "\n",
       "    .dataframe tbody tr th {\n",
       "        vertical-align: top;\n",
       "    }\n",
       "</style>\n",
       "<table border=\"1\" class=\"dataframe\">\n",
       "  <thead>\n",
       "    <tr style=\"text-align: right;\">\n",
       "      <th></th>\n",
       "      <th>square</th>\n",
       "      <th>bedrooms</th>\n",
       "      <th>price</th>\n",
       "    </tr>\n",
       "  </thead>\n",
       "  <tbody>\n",
       "    <tr>\n",
       "      <th>0</th>\n",
       "      <td>0.130010</td>\n",
       "      <td>-0.223675</td>\n",
       "      <td>0.475747</td>\n",
       "    </tr>\n",
       "    <tr>\n",
       "      <th>1</th>\n",
       "      <td>-0.504190</td>\n",
       "      <td>-0.223675</td>\n",
       "      <td>-0.084074</td>\n",
       "    </tr>\n",
       "    <tr>\n",
       "      <th>2</th>\n",
       "      <td>0.502476</td>\n",
       "      <td>-0.223675</td>\n",
       "      <td>0.228626</td>\n",
       "    </tr>\n",
       "    <tr>\n",
       "      <th>3</th>\n",
       "      <td>-0.735723</td>\n",
       "      <td>-1.537767</td>\n",
       "      <td>-0.867025</td>\n",
       "    </tr>\n",
       "    <tr>\n",
       "      <th>4</th>\n",
       "      <td>1.257476</td>\n",
       "      <td>1.090417</td>\n",
       "      <td>1.595389</td>\n",
       "    </tr>\n",
       "  </tbody>\n",
       "</table>\n",
       "</div>"
      ],
      "text/plain": [
       "     square  bedrooms     price\n",
       "0  0.130010 -0.223675  0.475747\n",
       "1 -0.504190 -0.223675 -0.084074\n",
       "2  0.502476 -0.223675  0.228626\n",
       "3 -0.735723 -1.537767 -0.867025\n",
       "4  1.257476  1.090417  1.595389"
      ]
     },
     "execution_count": 24,
     "metadata": {},
     "output_type": "execute_result"
    }
   ],
   "source": [
    "data = normalize_feature(raw_data)\n",
    "data.head()"
   ]
  },
  {
   "cell_type": "markdown",
   "metadata": {},
   "source": [
    "# 2. multi-var batch gradient decent（多变量批量梯度下降）"
   ]
  },
  {
   "cell_type": "code",
   "execution_count": 25,
   "metadata": {},
   "outputs": [
    {
     "name": "stdout",
     "output_type": "stream",
     "text": [
      "(47, 3) <class 'numpy.ndarray'>\n",
      "(47,) <class 'numpy.ndarray'>\n"
     ]
    }
   ],
   "source": [
    "X = get_X(data)\n",
    "print(X.shape, type(X))\n",
    "\n",
    "y = get_y(data)\n",
    "print(y.shape, type(y))#看下数据的维度和类型"
   ]
  },
  {
   "cell_type": "code",
   "execution_count": 26,
   "metadata": {
    "collapsed": true
   },
   "outputs": [],
   "source": [
    "alpha = 0.01#学习率\n",
    "theta = np.zeros(X.shape[1])#X.shape[1]：特征数n\n",
    "epoch = 500#轮数"
   ]
  },
  {
   "cell_type": "code",
   "execution_count": 27,
   "metadata": {
    "collapsed": true
   },
   "outputs": [],
   "source": [
    "final_theta, cost_data = batch_gradient_decent(theta, X, y, epoch, alpha=alpha)"
   ]
  },
  {
   "cell_type": "code",
   "execution_count": 31,
   "metadata": {},
   "outputs": [
    {
     "data": {
      "image/png": "[encoded data removed]",
      "text/plain": [
       "<matplotlib.figure.Figure at 0xef985f8>"
      ]
     },
     "metadata": {},
     "output_type": "display_data"
    }
   ],
   "source": [
    "sns.tsplot(time=np.arange(len(cost_data)), data = cost_data)\n",
    "plt.xlabel('epoch', fontsize=18)\n",
    "plt.ylabel('cost', fontsize=18)\n",
    "plt.show()"
   ]
  },
  {
   "cell_type": "code",
   "execution_count": 29,
   "metadata": {},
   "outputs": [
    {
     "data": {
      "text/plain": [
       "array([ -1.20848957e-16,   8.30383883e-01,   8.23982853e-04])"
      ]
     },
     "execution_count": 29,
     "metadata": {},
     "output_type": "execute_result"
    }
   ],
   "source": [
    "final_theta"
   ]
  },
  {
   "cell_type": "markdown",
   "metadata": {},
   "source": [
    "# 3. learning rate（学习率）"
   ]
  },
  {
   "cell_type": "code",
   "execution_count": 30,
   "metadata": {},
   "outputs": [
    {
     "name": "stdout",
     "output_type": "stream",
     "text": [
      "[  1.00000000e-05   3.00000000e-05   2.15443469e-04   6.46330407e-04\n",
      "   4.64158883e-03   1.39247665e-02   1.00000000e-01   3.00000000e-01]\n"
     ]
    }
   ],
   "source": [
    "base = np.logspace(-1, -5, num=4)\n",
    "candidate = np.sort(np.concatenate((base, base*3)))\n",
    "print(candidate)"
   ]
  },
  {
   "cell_type": "code",
   "execution_count": 32,
   "metadata": {},
   "outputs": [
    {
     "data": {
      "image/png": "[encoded data removed]",
      "text/plain": [
       "<matplotlib.figure.Figure at 0xeea7358>"
      ]
     },
     "metadata": {},
     "output_type": "display_data"
    }
   ],
   "source": [
    "epoch=50\n",
    "\n",
    "fig, ax = plt.subplots(figsize=(16, 9))\n",
    "\n",
    "for alpha in candidate:\n",
    "    _, cost_data = batch_gradient_decent(theta, X, y, epoch, alpha=alpha)\n",
    "    ax.plot(np.arange(epoch+1), cost_data, label=alpha)\n",
    "\n",
    "ax.set_xlabel('epoch', fontsize=18)\n",
    "ax.set_ylabel('cost', fontsize=18)\n",
    "ax.legend(bbox_to_anchor=(1.05, 1), loc=2, borderaxespad=0.)\n",
    "ax.set_title('learning rate', fontsize=18)\n",
    "plt.show()"
   ]
  },
  {
   "cell_type": "markdown",
   "metadata": {},
   "source": [
    "# 4. normal equation（正规方程）\n",
    "正规方程是通过求解下面的方程来找出使得代价函数最小的参数的：$\\frac{\\partial }{\\partial {{\\theta }_{j}}}J\\left( {{\\theta }_{j}} \\right)=0$ 。\n",
    " 假设我们的训练集特征矩阵为 X（包含了${{x}_{0}}=1$）并且我们的训练集结果为向量 y，则利用正规方程解出向量 $\\theta ={{\\left( {{X}^{T}}X \\right)}^{-1}}{{X}^{T}}y$ 。\n",
    "上标T代表矩阵转置，上标-1 代表矩阵的逆。设矩阵$A={{X}^{T}}X$，则：${{\\left( {{X}^{T}}X \\right)}^{-1}}={{A}^{-1}}$\n",
    "\n",
    "梯度下降与正规方程的比较：\n",
    "\n",
    "梯度下降：需要选择学习率α，需要多次迭代，当特征数量n大时也能较好适用，适用于各种类型的模型\t\n",
    "\n",
    "正规方程：不需要选择学习率α，一次计算得出，需要计算${{\\left( {{X}^{T}}X \\right)}^{-1}}$，如果特征数量n较大则运算代价大，因为矩阵逆的计算时间复杂度为O(n3)，通常来说当n小于10000 时还是可以接受的，只适用于线性模型，不适合逻辑回归模型等其他模型\n",
    "\n"
   ]
  },
  {
   "cell_type": "code",
   "execution_count": 42,
   "metadata": {
    "collapsed": true
   },
   "outputs": [],
   "source": [
    "# 正规方程\n",
    "def normalEqn(X, y):\n",
    "    theta = np.linalg.inv(X.T@X)@X.T@y#X.T@X等价于X.T.dot(X)\n",
    "    return theta"
   ]
  },
  {
   "cell_type": "code",
   "execution_count": 37,
   "metadata": {},
   "outputs": [
    {
     "data": {
      "text/plain": [
       "array([ -1.14491749e-16,   8.84765988e-01,  -5.31788197e-02])"
      ]
     },
     "execution_count": 37,
     "metadata": {},
     "output_type": "execute_result"
    }
   ],
   "source": [
    "final_theta2=normalEqn(X, y)#感觉和批量梯度下降的theta的值有点差距\n",
    "final_theta2"
   ]
  },
  {
   "cell_type": "markdown",
   "metadata": {},
   "source": [
    "# run the tensorflow graph over several optimizer"
   ]
  },
  {
   "cell_type": "code",
   "execution_count": 38,
   "metadata": {},
   "outputs": [
    {
     "name": "stdout",
     "output_type": "stream",
     "text": [
      "(47, 3) <class 'numpy.ndarray'>\n",
      "(47, 1) <class 'numpy.ndarray'>\n"
     ]
    }
   ],
   "source": [
    "X_data = get_X(data)\n",
    "print(X_data.shape, type(X_data))\n",
    "\n",
    "y_data = get_y(data).reshape(len(X_data), 1)  # special treatment for tensorflow input data\n",
    "print(y_data.shape, type(y_data))"
   ]
  },
  {
   "cell_type": "code",
   "execution_count": 39,
   "metadata": {
    "collapsed": true
   },
   "outputs": [],
   "source": [
    "epoch = 2000\n",
    "alpha = 0.01"
   ]
  },
  {
   "cell_type": "code",
   "execution_count": 40,
   "metadata": {
    "collapsed": true
   },
   "outputs": [],
   "source": [
    "optimizer_dict={'GD': tf.train.GradientDescentOptimizer,\n",
    "                'Adagrad': tf.train.AdagradOptimizer,\n",
    "                'Adam': tf.train.AdamOptimizer,\n",
    "                'Ftrl': tf.train.FtrlOptimizer,\n",
    "                'RMS': tf.train.RMSPropOptimizer\n",
    "               }\n",
    "results = []\n",
    "for name in optimizer_dict:\n",
    "    res = linear_regression(X_data, y_data, alpha, epoch, optimizer=optimizer_dict[name])\n",
    "    res['name'] = name\n",
    "    results.append(res)"
   ]
  },
  {
   "cell_type": "markdown",
   "metadata": {},
   "source": [
    "# 画图"
   ]
  },
  {
   "cell_type": "code",
   "execution_count": 41,
   "metadata": {},
   "outputs": [
    {
     "data": {
      "image/png": "[encoded data removed]",
      "text/plain": [
       "<matplotlib.figure.Figure at 0xfab7f60>"
      ]
     },
     "metadata": {},
     "output_type": "display_data"
    }
   ],
   "source": [
    "fig, ax = plt.subplots(figsize=(16, 9))\n",
    "\n",
    "for res in results: \n",
    "    loss_data = res['loss']\n",
    "    \n",
    "#     print('for optimizer {}'.format(res['name']))\n",
    "#     print('final parameters\\n', res['parameters'])\n",
    "#     print('final loss={}\\n'.format(loss_data[-1]))\n",
    "    ax.plot(np.arange(len(loss_data)), loss_data, label=res['name'])\n",
    "\n",
    "ax.set_xlabel('epoch', fontsize=18)\n",
    "ax.set_ylabel('cost', fontsize=18)\n",
    "ax.legend(bbox_to_anchor=(1.05, 1), loc=2, borderaxespad=0.)\n",
    "ax.set_title('different optimizer', fontsize=18)\n",
    "plt.show()"
   ]
  },
  {
   "cell_type": "code",
   "execution_count": null,
   "metadata": {
    "collapsed": true
   },
   "outputs": [],
   "source": []
  }
 ],
 "metadata": {
  "anaconda-cloud": {},
  "kernelspec": {
   "display_name": "Python 3",
   "language": "python",
   "name": "python3"
  },
  "language_info": {
   "codemirror_mode": {
    "name": "ipython",
    "version": 3
   },
   "file_extension": ".py",
   "mimetype": "text/x-python",
   "name": "python",
   "nbconvert_exporter": "python",
   "pygments_lexer": "ipython3",
   "version": "3.8.10"
  }
 },
 "nbformat": 4,
 "nbformat_minor": 1
}
