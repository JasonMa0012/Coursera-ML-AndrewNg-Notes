{
 "cells": [
  {
   "cell_type": "code",
   "execution_count": 59,
   "metadata": {},
   "outputs": [
    {
     "name": "stdout",
     "output_type": "stream",
     "text": [
      "14\n",
      "[1 4 9]\n",
      "14\n",
      "[1 4 9]\n"
     ]
    }
   ],
   "source": [
    "import numpy as np\n",
    "\n",
    "a = np.array([1,2,3])\n",
    "b = np.array([1,2,3])\n",
    "c = np.dot(a,b)\n",
    "d = np.multiply(a,b)\n",
    "e = a @ b\n",
    "f = a * b\n",
    "\n",
    "print(c)\n",
    "print(d)\n",
    "print(e)\n",
    "print(f)"
   ]
  },
  {
   "cell_type": "markdown",
   "metadata": {},
   "source": [
    "Numpy的矩阵乘法是dot(@)，矩阵数乘（点乘）是multiply(*)，和直觉是正好相反的\n",
    "\n",
    "并且，array和matrix的结果并不相同：\n"
   ]
  },
  {
   "cell_type": "code",
   "execution_count": 66,
   "metadata": {},
   "outputs": [
    {
     "name": "stdout",
     "output_type": "stream",
     "text": [
      "(2, 1)\n"
     ]
    }
   ],
   "source": [
    "a = np.matrix([[1,2],\n",
    "              [4,5]])\n",
    "v = np.matrix([[7],\n",
    "              [8]])\n",
    "print(v.shape)"
   ]
  },
  {
   "cell_type": "code",
   "execution_count": 68,
   "metadata": {},
   "outputs": [
    {
     "name": "stdout",
     "output_type": "stream",
     "text": [
      "(2, 1)\n"
     ]
    }
   ],
   "source": [
    "a = np.array([[1,2],\n",
    "              [4,5]])\n",
    "v = np.array([[7],\n",
    "              [8]])\n",
    "print(v.shape)"
   ]
  },
  {
   "cell_type": "code",
   "execution_count": 57,
   "metadata": {},
   "outputs": [
    {
     "name": "stdout",
     "output_type": "stream",
     "text": [
      "(2, 1)\n"
     ]
    }
   ],
   "source": [
    "a = np.matrix([[1,2],\n",
    "               [4,5],\n",
    "               [5,7]])\n",
    "v = np.matrix([[7],\n",
    "               [8]])\n",
    "print(v.shape)"
   ]
  },
  {
   "cell_type": "code",
   "execution_count": 56,
   "metadata": {},
   "outputs": [
    {
     "name": "stdout",
     "output_type": "stream",
     "text": [
      "(2, 1)\n"
     ]
    }
   ],
   "source": [
    "a = np.array([[1,2],\n",
    "              [4,5],\n",
    "              [5,7]])\n",
    "v = np.array([[7],\n",
    "              [8]])\n",
    "print(v.shape)"
   ]
  },
  {
   "cell_type": "code",
   "execution_count": 69,
   "metadata": {},
   "outputs": [
    {
     "name": "stdout",
     "output_type": "stream",
     "text": [
      "[[23]\n",
      " [68]]\n",
      "[[ 7 14]\n",
      " [32 40]]\n",
      "[[23]\n",
      " [68]]\n",
      "[[ 7 14]\n",
      " [32 40]]\n"
     ]
    }
   ],
   "source": [
    "c = np.dot(a,v) # 向量点积或矩阵乘法，shape不合法时报错\n",
    "print(c)\n",
    "d = np.multiply(a,v) # 先广播后对位相乘，shape无法广播时报错\n",
    "print(d)\n",
    "e = a@v # 向量点积或矩阵乘法，shape不合法时报错\n",
    "print(e)\n",
    "f = a*v # array：先广播后对位相乘；matrix：矩阵乘法，shape不合法时报错\n",
    "print(f)\n",
    "\n"
   ]
  },
  {
   "cell_type": "markdown",
   "metadata": {},
   "source": [
    "https://numpy.org/doc/stable/reference/generated/numpy.dot.html\n",
    "\n",
    "https://blog.csdn.net/zenghaitao0128/article/details/78715140"
   ]
  }
 ],
 "metadata": {
  "interpreter": {
   "hash": "e41b0214593b337239f60172cce889a0bda4576347a094ee2e6b0f787deffaf6"
  },
  "kernelspec": {
   "display_name": "Python 3.8.10 64-bit ('3.8.10')",
   "language": "python",
   "name": "python3"
  },
  "language_info": {
   "codemirror_mode": {
    "name": "ipython",
    "version": 3
   },
   "file_extension": ".py",
   "mimetype": "text/x-python",
   "name": "python",
   "nbconvert_exporter": "python",
   "pygments_lexer": "ipython3",
   "version": "3.8.10"
  },
  "orig_nbformat": 4
 },
 "nbformat": 4,
 "nbformat_minor": 2
}
