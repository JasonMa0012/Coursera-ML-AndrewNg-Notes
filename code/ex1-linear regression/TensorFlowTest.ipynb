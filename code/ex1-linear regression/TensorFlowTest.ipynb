{
 "cells": [
  {
   "cell_type": "code",
   "execution_count": 1,
   "metadata": {},
   "outputs": [],
   "source": [
    "import tensorflow as tf"
   ]
  },
  {
   "cell_type": "code",
   "execution_count": 6,
   "metadata": {},
   "outputs": [
    {
     "data": {
      "text/plain": [
       "<tf.Tensor: shape=(), dtype=int32, numpy=2>"
      ]
     },
     "execution_count": 6,
     "metadata": {},
     "output_type": "execute_result"
    }
   ],
   "source": [
    "#定义一个图：只有一个图时，这个图就是默认图，所有操作都自动添加到这个图中\n",
    "g = tf.Graph()#tensorflow会默认给我们建立一个graph,这句话可以省略\n",
    "a = tf.constant(2)#将Operation添加到默认Graph中，只需要调用定义Operation的函数\n",
    "\n",
    "a\n",
    "\n",
    "# print(tf.get_default_graph())#通过调用tf.get_default_graph()访问默认创建的图的位置\n",
    "\n"
   ]
  }
 ],
 "metadata": {
  "interpreter": {
   "hash": "e41b0214593b337239f60172cce889a0bda4576347a094ee2e6b0f787deffaf6"
  },
  "kernelspec": {
   "display_name": "Python 3.8.10 64-bit ('3.8.10')",
   "language": "python",
   "name": "python3"
  },
  "language_info": {
   "codemirror_mode": {
    "name": "ipython",
    "version": 3
   },
   "file_extension": ".py",
   "mimetype": "text/x-python",
   "name": "python",
   "nbconvert_exporter": "python",
   "pygments_lexer": "ipython3",
   "version": "3.8.10"
  },
  "orig_nbformat": 4
 },
 "nbformat": 4,
 "nbformat_minor": 2
}
